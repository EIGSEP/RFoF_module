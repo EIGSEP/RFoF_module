{
 "cells": [
  {
   "cell_type": "code",
   "execution_count": 1,
   "id": "0c29d8c8-1340-49dc-9ccb-cdbb7dbf7eaf",
   "metadata": {},
   "outputs": [],
   "source": [
    "import rfof\n",
    "from rfof import Ftx, Frx"
   ]
  },
  {
   "cell_type": "code",
   "execution_count": 2,
   "id": "5188ea91-9a35-4a1f-8792-4385e8374146",
   "metadata": {},
   "outputs": [
    {
     "data": {
      "text/plain": [
       "['Quad RS232-HS A', 'Quad RS232-HS B', 'Quad RS232-HS C', 'Quad RS232-HS D']"
      ]
     },
     "execution_count": 2,
     "metadata": {},
     "output_type": "execute_result"
    }
   ],
   "source": [
    "rfof.list_devices()"
   ]
  },
  {
   "cell_type": "markdown",
   "id": "84ecf100-1253-40c2-8383-84b60ef99beb",
   "metadata": {},
   "source": [
    "## FTX"
   ]
  },
  {
   "cell_type": "code",
   "execution_count": 3,
   "id": "878810ff-ffc8-458b-aefa-1fe62be8e155",
   "metadata": {},
   "outputs": [],
   "source": [
    "ftx = Ftx(1) # Interface B"
   ]
  },
  {
   "cell_type": "code",
   "execution_count": 12,
   "id": "93e76926-d560-43a2-b6de-d3814e398b7c",
   "metadata": {},
   "outputs": [
    {
     "data": {
      "text/plain": [
       "{'temp': 43.4609375,\n",
       " 'uid': '0x56570f5557d1',\n",
       " 'atten': 0.0,\n",
       " 'rf_power': -23.288938522338867,\n",
       " 'pd_current': 267.76556396484375,\n",
       " 'ld_current': 24.566545486450195,\n",
       " 'lna_current': 71.4774169921875,\n",
       " 'lna_voltage': 6.32478666305542,\n",
       " 'vdd_voltage': 3.318681478500366,\n",
       " 'vdda_voltage': 5.457875728607178}"
      ]
     },
     "execution_count": 12,
     "metadata": {},
     "output_type": "execute_result"
    }
   ],
   "source": [
    "# Control\n",
    "ftx.set_atten(0)\n",
    "ftx.set_lna_enable(True)\n",
    "ftx.set_ld_current(25.0)\n",
    "\n",
    "# Monitor\n",
    "{\n",
    "    \"temp\": ftx.get_temp(),\n",
    "    \"uid\": hex(ftx.get_uid()),\n",
    "    \"atten\": ftx.get_atten(),\n",
    "    \"rf_power\": ftx.get_rf_power(),\n",
    "    \"pd_current\": ftx.get_pd_current(),\n",
    "    \"ld_current\": ftx.get_ld_current(),\n",
    "    \"lna_current\": ftx.get_lna_current(),\n",
    "    \"lna_voltage\": ftx.get_lna_voltage(),\n",
    "    \"vdd_voltage\": ftx.get_vdd_voltage(),\n",
    "    \"vdda_voltage\": ftx.get_vdda_voltage(),\n",
    "}"
   ]
  },
  {
   "cell_type": "markdown",
   "id": "52cea026-cf6f-443b-aa11-fa97dac7bc81",
   "metadata": {},
   "source": [
    "## FRX"
   ]
  },
  {
   "cell_type": "code",
   "execution_count": 5,
   "id": "83171c06-902f-4d41-a3c0-82a03482a7a7",
   "metadata": {},
   "outputs": [],
   "source": [
    "frx = Frx(0) # Interface A"
   ]
  },
  {
   "cell_type": "code",
   "execution_count": 24,
   "id": "a49a337e-3fc9-4374-adc6-bb4ad506cf28",
   "metadata": {},
   "outputs": [
    {
     "data": {
      "text/plain": [
       "{'temp': 45.0390625,\n",
       " 'uid': '0x53e10f812677',\n",
       " 'atten': 12.25,\n",
       " 'rf_power': -32.537994384765625,\n",
       " 'pd_current': 4.026909828186035}"
      ]
     },
     "execution_count": 24,
     "metadata": {},
     "output_type": "execute_result"
    }
   ],
   "source": [
    "# Control\n",
    "frx.set_atten(12.25)  # dB\n",
    "\n",
    "# Monitor\n",
    "{\n",
    "    \"temp\": frx.get_temp(),\n",
    "    \"uid\": hex(frx.get_uid()),\n",
    "    \"atten\": frx.get_atten(),\n",
    "    \"rf_power\": frx.get_rf_power(),\n",
    "    \"pd_current\": frx.get_pd_current(),\n",
    "}"
   ]
  },
  {
   "cell_type": "code",
   "execution_count": null,
   "id": "977e3fd5-3208-48a3-a415-e8c93668b3be",
   "metadata": {},
   "outputs": [],
   "source": []
  },
  {
   "cell_type": "code",
   "execution_count": null,
   "id": "350f6513-3d39-4076-b912-1a7f072f72a6",
   "metadata": {},
   "outputs": [],
   "source": []
  },
  {
   "cell_type": "code",
   "execution_count": null,
   "id": "51d0ff1f-8496-41fc-834b-8634737ceee2",
   "metadata": {},
   "outputs": [],
   "source": []
  }
 ],
 "metadata": {
  "kernelspec": {
   "display_name": "Python 3 (ipykernel)",
   "language": "python",
   "name": "python3"
  },
  "language_info": {
   "codemirror_mode": {
    "name": "ipython",
    "version": 3
   },
   "file_extension": ".py",
   "mimetype": "text/x-python",
   "name": "python",
   "nbconvert_exporter": "python",
   "pygments_lexer": "ipython3",
   "version": "3.12.6"
  }
 },
 "nbformat": 4,
 "nbformat_minor": 5
}
